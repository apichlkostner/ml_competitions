{
 "cells": [
  {
   "cell_type": "code",
   "execution_count": 36,
   "metadata": {},
   "outputs": [],
   "source": [
    "import numpy as np\n",
    "import pandas as pd\n",
    "import matplotlib.pyplot as plt\n",
    "%matplotlib inline\n",
    "\n",
    "from sklearn.ensemble import RandomForestClassifier\n",
    "from sklearn.metrics import precision_score, confusion_matrix\n",
    "from sklearn.model_selection import cross_val_score, GridSearchCV"
   ]
  },
  {
   "cell_type": "code",
   "execution_count": 2,
   "metadata": {},
   "outputs": [],
   "source": [
    "df_train = pd.read_csv(\"../input/train.csv\").sample(frac=1)\n",
    "df_test = pd.read_csv(\"../input/test.csv\")"
   ]
  },
  {
   "cell_type": "code",
   "execution_count": 3,
   "metadata": {},
   "outputs": [
    {
     "name": "stdout",
     "output_type": "stream",
     "text": [
      "Size training set (15120, 56), size test set (565892, 55)\n",
      "\n",
      "Featues: Index(['Elevation', 'Aspect', 'Slope', 'Horizontal_Distance_To_Hydrology',\n",
      "       'Vertical_Distance_To_Hydrology', 'Horizontal_Distance_To_Roadways',\n",
      "       'Hillshade_9am', 'Hillshade_Noon', 'Hillshade_3pm',\n",
      "       'Horizontal_Distance_To_Fire_Points', 'Wilderness_Area1',\n",
      "       'Wilderness_Area2', 'Wilderness_Area3', 'Wilderness_Area4',\n",
      "       'Soil_Type1', 'Soil_Type2', 'Soil_Type3', 'Soil_Type4', 'Soil_Type5',\n",
      "       'Soil_Type6', 'Soil_Type7', 'Soil_Type8', 'Soil_Type9', 'Soil_Type10',\n",
      "       'Soil_Type11', 'Soil_Type12', 'Soil_Type13', 'Soil_Type14',\n",
      "       'Soil_Type15', 'Soil_Type16', 'Soil_Type17', 'Soil_Type18',\n",
      "       'Soil_Type19', 'Soil_Type20', 'Soil_Type21', 'Soil_Type22',\n",
      "       'Soil_Type23', 'Soil_Type24', 'Soil_Type25', 'Soil_Type26',\n",
      "       'Soil_Type27', 'Soil_Type28', 'Soil_Type29', 'Soil_Type30',\n",
      "       'Soil_Type31', 'Soil_Type32', 'Soil_Type33', 'Soil_Type34',\n",
      "       'Soil_Type35', 'Soil_Type36', 'Soil_Type37', 'Soil_Type38',\n",
      "       'Soil_Type39', 'Soil_Type40'],\n",
      "      dtype='object')\n"
     ]
    }
   ],
   "source": [
    "print('Size training set {}, size test set {}\\n'.format(df_train.shape, df_test.shape))\n",
    "print('Featues: {}'.format(df_train.columns[(df_train.columns != 'Id') & (df_train.columns != 'Cover_Type')]))"
   ]
  },
  {
   "cell_type": "code",
   "execution_count": 6,
   "metadata": {},
   "outputs": [
    {
     "data": {
      "text/plain": [
       "<Container object of 40 artists>"
      ]
     },
     "execution_count": 6,
     "metadata": {},
     "output_type": "execute_result"
    },
    {
     "data": {
      "image/png": "[encoded data removed]",
      "text/plain": [
       "<matplotlib.figure.Figure at 0x7facf30fcb00>"
      ]
     },
     "metadata": {},
     "output_type": "display_data"
    }
   ],
   "source": [
    "columns = ['Soil_Type1', 'Soil_Type2', 'Soil_Type3', 'Soil_Type4', 'Soil_Type5',\n",
    "       'Soil_Type6', 'Soil_Type7', 'Soil_Type8', 'Soil_Type9', 'Soil_Type10',\n",
    "       'Soil_Type11', 'Soil_Type12', 'Soil_Type13', 'Soil_Type14',\n",
    "       'Soil_Type15', 'Soil_Type16', 'Soil_Type17', 'Soil_Type18',\n",
    "       'Soil_Type19', 'Soil_Type20', 'Soil_Type21', 'Soil_Type22',\n",
    "       'Soil_Type23', 'Soil_Type24', 'Soil_Type25', 'Soil_Type26',\n",
    "       'Soil_Type27', 'Soil_Type28', 'Soil_Type29', 'Soil_Type30',\n",
    "       'Soil_Type31', 'Soil_Type32', 'Soil_Type33', 'Soil_Type34',\n",
    "       'Soil_Type35', 'Soil_Type36', 'Soil_Type37', 'Soil_Type38',\n",
    "       'Soil_Type39', 'Soil_Type40']\n",
    "df = df_train.copy()[columns]\n",
    "y = df.astype(bool).sum(axis=0)\n",
    "x = np.arange(1, len(columns)+1)\n",
    "plt.bar(x, y)"
   ]
  },
  {
   "cell_type": "code",
   "execution_count": 7,
   "metadata": {},
   "outputs": [
    {
     "data": {
      "text/plain": [
       "<Container object of 40 artists>"
      ]
     },
     "execution_count": 7,
     "metadata": {},
     "output_type": "execute_result"
    },
    {
     "data": {
      "image/png": "[encoded data removed]",
      "text/plain": [
       "<matplotlib.figure.Figure at 0x7facf30d19b0>"
      ]
     },
     "metadata": {},
     "output_type": "display_data"
    }
   ],
   "source": [
    "df = df_test.copy()[columns]\n",
    "y = df.astype(bool).sum(axis=0)\n",
    "x = np.arange(1, len(columns)+1)\n",
    "plt.bar(x, y)"
   ]
  },
  {
   "cell_type": "code",
   "execution_count": 8,
   "metadata": {},
   "outputs": [],
   "source": [
    "if True:\n",
    "    rubbly = ['Soil_Type' + str(num) for num in [3, 4, 5, 10, 11, 13]]\n",
    "    stony  = ['Soil_Type' + str(num) for num in [6, 12]]\n",
    "    very_stony = ['Soil_Type' + str(num) for num in [9, 18, 26, 2]]\n",
    "    extemely_stony =['Soil_Type' + str(num) for num in [1, 24, 25, 27, 28, 29, 30, 31, 32, 33, 34, 36]]\n",
    "    rock_land_complex = ['Soil_Type' + str(num) for num in [11, 12, 34, 40]]\n",
    "    typic_cryaquolls_complex = ['Soil_Type' + str(num) for num in [20, 23]]\n",
    "    rock_outcrop_complex = ['Soil_Type' + str(num) for num in [1, 3, 4, 5, 6, 10, 27, 28 , 33]]\n",
    "    leighcan_family_complex = ['Soil_Type' + str(num) for num in [32, 39]]\n",
    "    leighcan = ['Soil_Type' + str(num) for num in [22, 23, 24, 25, 27, 28, 31]]\n",
    "    moran = ['Soil_Type' + str(num) for num in [39, 40]]\n",
    "\n",
    "    categories = [rubbly, stony, very_stony, extemely_stony, rock_land_complex, typic_cryaquolls_complex,\n",
    "                  rock_outcrop_complex, leighcan_family_complex, leighcan, moran]\n",
    "\n",
    "    cat_num = 0\n",
    "    for cat in categories:\n",
    "        cat_str = 'cat' + str(cat_num)\n",
    "        df_train[cat_str] = 0\n",
    "        df_test[cat_str] = 0\n",
    "        for soil_type in cat:\n",
    "            df_train[cat_str] += df_train[soil_type]\n",
    "            df_test[cat_str] += df_test[soil_type]\n",
    "        cat_num += 1"
   ]
  },
  {
   "cell_type": "code",
   "execution_count": 61,
   "metadata": {},
   "outputs": [
    {
     "name": "stdout",
     "output_type": "stream",
     "text": [
      "Best params = {'max_depth': 14, 'max_features': 'sqrt', 'n_estimators': 250}\n",
      "Best score = 0.8347518060495598\n"
     ]
    }
   ],
   "source": [
    "scores = ['precision']\n",
    "\n",
    "param_grid = { \n",
    "    'n_estimators': [150, 200, 250],\n",
    "    'max_features': ['sqrt', 'log2'],\n",
    "    'max_depth' : range(10, 15, 1)\n",
    "}\n",
    "\n",
    "for score in scores:\n",
    "    gsclf = GridSearchCV(RandomForestClassifier(), param_grid, cv=5, scoring='%s_macro' % score, n_jobs=4)\n",
    "    gsclf.fit(X, y)\n",
    "    print('Best params = {}'.format(gsclf.best_params_))\n",
    "    print('Best score = {}'.format(gsclf.best_score_))"
   ]
  },
  {
   "cell_type": "code",
   "execution_count": 62,
   "metadata": {},
   "outputs": [
    {
     "data": {
      "text/plain": [
       "array([[2008,   91,    2,    0,   25,    3,   31],\n",
       "       [  79, 1965,   20,    0,   67,   28,    1],\n",
       "       [   0,    2, 2004,   32,   10,  112,    0],\n",
       "       [   0,    0,    1, 2148,    0,   11,    0],\n",
       "       [   0,   19,   13,    0, 2119,    9,    0],\n",
       "       [   0,    3,   21,   18,    6, 2112,    0],\n",
       "       [  28,    0,    0,    0,    0,    0, 2132]])"
      ]
     },
     "execution_count": 62,
     "metadata": {},
     "output_type": "execute_result"
    }
   ],
   "source": [
    "y_pred_train = gsclf.predict(X)\n",
    "confusion_matrix(y, y_pred_train)"
   ]
  },
  {
   "cell_type": "code",
   "execution_count": null,
   "metadata": {},
   "outputs": [],
   "source": [
    "df_test = df_test.iloc[:, df_test.columns == 'Id']\n",
    "df_test['Cover_Type'] = y_pred\n",
    "df_test.to_csv('result.csv', index=False)"
   ]
  }
 ],
 "metadata": {
  "kernelspec": {
   "display_name": "Python 3",
   "language": "python",
   "name": "python3"
  },
  "language_info": {
   "codemirror_mode": {
    "name": "ipython",
    "version": 3
   },
   "file_extension": ".py",
   "mimetype": "text/x-python",
   "name": "python",
   "nbconvert_exporter": "python",
   "pygments_lexer": "ipython3",
   "version": "3.6.5"
  }
 },
 "nbformat": 4,
 "nbformat_minor": 2
}
